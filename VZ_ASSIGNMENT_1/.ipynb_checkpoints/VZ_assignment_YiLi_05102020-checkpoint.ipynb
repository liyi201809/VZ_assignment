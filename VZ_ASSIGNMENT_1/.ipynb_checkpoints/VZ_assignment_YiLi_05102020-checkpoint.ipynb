{
 "cells": [
  {
   "cell_type": "code",
   "execution_count": 1,
   "metadata": {},
   "outputs": [],
   "source": [
    "import pandas as pd\n",
    "import numpy as np\n",
    "import matplotlib.pyplot as plt\n",
    "import seaborn as sns\n",
    "%matplotlib inline "
   ]
  },
  {
   "cell_type": "markdown",
   "metadata": {},
   "source": [
    "# Conclusion\n",
    "By making use of the BigQuery and programming in Python, I summarized the finding in this cell. Due to the time limit, I did not comment the code below. The important tables and visualizations can be found in the following section.\n",
    "* Top five regions with the most users in 2015 is India, Athens, Italy, Denmark\tand LA\n",
    "* Most of user profile does not contain the information of ages.\n",
    "* The averge active duration(from creation to the last edit) is around 235 days, however, it has a large variations, popular posts can last much longer than normal ones.\n",
    "* Through 12 months of 2015, people tend to produce less posts in January and Feburary(might due to holidays, more research needs). \n",
    "* The **score, view_count, favoriate_num** are quite correalted with each other\n",
    "* Surprisingly, the **comments_num** does not increase with number of **score, view_count** and **favoriate_num**( can be interpreted that a good post does not need too much explain) "
   ]
  },
  {
   "cell_type": "markdown",
   "metadata": {},
   "source": [
    "## Load and preprocess data retireved by BigQuery"
   ]
  },
  {
   "cell_type": "code",
   "execution_count": 2,
   "metadata": {},
   "outputs": [
    {
     "name": "stdout",
     "output_type": "stream",
     "text": [
      "Index(['userID', 'post_cnt', 'avg_far', 'avg_com', 'avg_ans', 'avg_scr',\n",
      "       'avg_view'],\n",
      "      dtype='object')\n",
      "Index(['creation_date', 'last_activity_date'], dtype='object')\n",
      "Index(['userID', 'location'], dtype='object')\n"
     ]
    },
    {
     "data": {
      "text/html": [
       "<div>\n",
       "<style scoped>\n",
       "    .dataframe tbody tr th:only-of-type {\n",
       "        vertical-align: middle;\n",
       "    }\n",
       "\n",
       "    .dataframe tbody tr th {\n",
       "        vertical-align: top;\n",
       "    }\n",
       "\n",
       "    .dataframe thead th {\n",
       "        text-align: right;\n",
       "    }\n",
       "</style>\n",
       "<table border=\"1\" class=\"dataframe\">\n",
       "  <thead>\n",
       "    <tr style=\"text-align: right;\">\n",
       "      <th></th>\n",
       "      <th>userID</th>\n",
       "      <th>post_cnt</th>\n",
       "      <th>avg_far</th>\n",
       "      <th>avg_com</th>\n",
       "      <th>avg_ans</th>\n",
       "      <th>avg_scr</th>\n",
       "      <th>avg_view</th>\n",
       "    </tr>\n",
       "  </thead>\n",
       "  <tbody>\n",
       "    <tr>\n",
       "      <th>0</th>\n",
       "      <td>4304022</td>\n",
       "      <td>21</td>\n",
       "      <td>3.0</td>\n",
       "      <td>1.809524</td>\n",
       "      <td>1.571429</td>\n",
       "      <td>2.142857</td>\n",
       "      <td>1956.571429</td>\n",
       "    </tr>\n",
       "    <tr>\n",
       "      <th>1</th>\n",
       "      <td>1531040</td>\n",
       "      <td>23</td>\n",
       "      <td>0.0</td>\n",
       "      <td>1.565217</td>\n",
       "      <td>1.470588</td>\n",
       "      <td>-0.043478</td>\n",
       "      <td>89.058824</td>\n",
       "    </tr>\n",
       "    <tr>\n",
       "      <th>2</th>\n",
       "      <td>3395829</td>\n",
       "      <td>27</td>\n",
       "      <td>1.0</td>\n",
       "      <td>1.740741</td>\n",
       "      <td>1.250000</td>\n",
       "      <td>1.185185</td>\n",
       "      <td>392.125000</td>\n",
       "    </tr>\n",
       "    <tr>\n",
       "      <th>3</th>\n",
       "      <td>4235960</td>\n",
       "      <td>122</td>\n",
       "      <td>0.5</td>\n",
       "      <td>2.762295</td>\n",
       "      <td>1.681818</td>\n",
       "      <td>0.786885</td>\n",
       "      <td>209.136364</td>\n",
       "    </tr>\n",
       "    <tr>\n",
       "      <th>4</th>\n",
       "      <td>4801826</td>\n",
       "      <td>9</td>\n",
       "      <td>1.0</td>\n",
       "      <td>0.222222</td>\n",
       "      <td>0.800000</td>\n",
       "      <td>0.000000</td>\n",
       "      <td>112.600000</td>\n",
       "    </tr>\n",
       "  </tbody>\n",
       "</table>\n",
       "</div>"
      ],
      "text/plain": [
       "    userID  post_cnt  avg_far   avg_com   avg_ans   avg_scr     avg_view\n",
       "0  4304022        21      3.0  1.809524  1.571429  2.142857  1956.571429\n",
       "1  1531040        23      0.0  1.565217  1.470588 -0.043478    89.058824\n",
       "2  3395829        27      1.0  1.740741  1.250000  1.185185   392.125000\n",
       "3  4235960       122      0.5  2.762295  1.681818  0.786885   209.136364\n",
       "4  4801826         9      1.0  0.222222  0.800000  0.000000   112.600000"
      ]
     },
     "execution_count": 2,
     "metadata": {},
     "output_type": "execute_result"
    }
   ],
   "source": [
    "posts = pd.read_csv('post_info.csv')\n",
    "dates = pd.read_csv('date_info.csv')\n",
    "location =  pd.read_csv('location_info.csv')\n",
    "location = location.rename(columns={'owner_user_id':\"userID\"})\n",
    "\n",
    "print(posts.columns)\n",
    "print(dates.columns)\n",
    "print(location.columns)\n",
    "\n",
    "posts.head()"
   ]
  },
  {
   "cell_type": "code",
   "execution_count": 9,
   "metadata": {},
   "outputs": [
    {
     "data": {
      "text/html": [
       "<div>\n",
       "<style scoped>\n",
       "    .dataframe tbody tr th:only-of-type {\n",
       "        vertical-align: middle;\n",
       "    }\n",
       "\n",
       "    .dataframe tbody tr th {\n",
       "        vertical-align: top;\n",
       "    }\n",
       "\n",
       "    .dataframe thead th {\n",
       "        text-align: right;\n",
       "    }\n",
       "</style>\n",
       "<table border=\"1\" class=\"dataframe\">\n",
       "  <thead>\n",
       "    <tr style=\"text-align: right;\">\n",
       "      <th></th>\n",
       "      <th>userID</th>\n",
       "      <th>post_cnt</th>\n",
       "      <th>avg_far</th>\n",
       "      <th>avg_com</th>\n",
       "      <th>avg_ans</th>\n",
       "      <th>avg_scr</th>\n",
       "      <th>avg_view</th>\n",
       "    </tr>\n",
       "  </thead>\n",
       "  <tbody>\n",
       "    <tr>\n",
       "      <th>count</th>\n",
       "      <td>1.600000e+04</td>\n",
       "      <td>16000.000000</td>\n",
       "      <td>16000.000000</td>\n",
       "      <td>16000.000000</td>\n",
       "      <td>16000.000000</td>\n",
       "      <td>16000.000000</td>\n",
       "      <td>16000.000000</td>\n",
       "    </tr>\n",
       "    <tr>\n",
       "      <th>mean</th>\n",
       "      <td>3.104228e+06</td>\n",
       "      <td>22.366875</td>\n",
       "      <td>0.710942</td>\n",
       "      <td>1.919714</td>\n",
       "      <td>1.406654</td>\n",
       "      <td>0.724918</td>\n",
       "      <td>282.801455</td>\n",
       "    </tr>\n",
       "    <tr>\n",
       "      <th>std</th>\n",
       "      <td>1.633933e+06</td>\n",
       "      <td>57.621019</td>\n",
       "      <td>1.160697</td>\n",
       "      <td>1.183553</td>\n",
       "      <td>0.866429</td>\n",
       "      <td>1.989294</td>\n",
       "      <td>992.608887</td>\n",
       "    </tr>\n",
       "    <tr>\n",
       "      <th>min</th>\n",
       "      <td>1.363000e+03</td>\n",
       "      <td>1.000000</td>\n",
       "      <td>0.000000</td>\n",
       "      <td>0.000000</td>\n",
       "      <td>0.125000</td>\n",
       "      <td>-8.000000</td>\n",
       "      <td>12.666667</td>\n",
       "    </tr>\n",
       "    <tr>\n",
       "      <th>25%</th>\n",
       "      <td>1.643535e+06</td>\n",
       "      <td>6.000000</td>\n",
       "      <td>0.000000</td>\n",
       "      <td>1.176471</td>\n",
       "      <td>0.928571</td>\n",
       "      <td>0.200000</td>\n",
       "      <td>87.000000</td>\n",
       "    </tr>\n",
       "    <tr>\n",
       "      <th>50%</th>\n",
       "      <td>3.349431e+06</td>\n",
       "      <td>11.000000</td>\n",
       "      <td>0.666667</td>\n",
       "      <td>1.714286</td>\n",
       "      <td>1.272727</td>\n",
       "      <td>0.500000</td>\n",
       "      <td>145.800000</td>\n",
       "    </tr>\n",
       "    <tr>\n",
       "      <th>75%</th>\n",
       "      <td>4.569840e+06</td>\n",
       "      <td>22.000000</td>\n",
       "      <td>1.000000</td>\n",
       "      <td>2.400000</td>\n",
       "      <td>1.625000</td>\n",
       "      <td>0.944444</td>\n",
       "      <td>262.126697</td>\n",
       "    </tr>\n",
       "    <tr>\n",
       "      <th>max</th>\n",
       "      <td>6.306298e+06</td>\n",
       "      <td>2372.000000</td>\n",
       "      <td>37.500000</td>\n",
       "      <td>28.000000</td>\n",
       "      <td>13.000000</td>\n",
       "      <td>115.000000</td>\n",
       "      <td>62835.000000</td>\n",
       "    </tr>\n",
       "  </tbody>\n",
       "</table>\n",
       "</div>"
      ],
      "text/plain": [
       "             userID      post_cnt       avg_far       avg_com       avg_ans  \\\n",
       "count  1.600000e+04  16000.000000  16000.000000  16000.000000  16000.000000   \n",
       "mean   3.104228e+06     22.366875      0.710942      1.919714      1.406654   \n",
       "std    1.633933e+06     57.621019      1.160697      1.183553      0.866429   \n",
       "min    1.363000e+03      1.000000      0.000000      0.000000      0.125000   \n",
       "25%    1.643535e+06      6.000000      0.000000      1.176471      0.928571   \n",
       "50%    3.349431e+06     11.000000      0.666667      1.714286      1.272727   \n",
       "75%    4.569840e+06     22.000000      1.000000      2.400000      1.625000   \n",
       "max    6.306298e+06   2372.000000     37.500000     28.000000     13.000000   \n",
       "\n",
       "            avg_scr      avg_view  \n",
       "count  16000.000000  16000.000000  \n",
       "mean       0.724918    282.801455  \n",
       "std        1.989294    992.608887  \n",
       "min       -8.000000     12.666667  \n",
       "25%        0.200000     87.000000  \n",
       "50%        0.500000    145.800000  \n",
       "75%        0.944444    262.126697  \n",
       "max      115.000000  62835.000000  "
      ]
     },
     "execution_count": 9,
     "metadata": {},
     "output_type": "execute_result"
    }
   ],
   "source": [
    "posts.describe()"
   ]
  },
  {
   "cell_type": "code",
   "execution_count": 3,
   "metadata": {},
   "outputs": [
    {
     "data": {
      "text/html": [
       "<div>\n",
       "<style scoped>\n",
       "    .dataframe tbody tr th:only-of-type {\n",
       "        vertical-align: middle;\n",
       "    }\n",
       "\n",
       "    .dataframe tbody tr th {\n",
       "        vertical-align: top;\n",
       "    }\n",
       "\n",
       "    .dataframe thead th {\n",
       "        text-align: right;\n",
       "    }\n",
       "</style>\n",
       "<table border=\"1\" class=\"dataframe\">\n",
       "  <thead>\n",
       "    <tr style=\"text-align: right;\">\n",
       "      <th></th>\n",
       "      <th>location</th>\n",
       "      <th>user num</th>\n",
       "    </tr>\n",
       "  </thead>\n",
       "  <tbody>\n",
       "    <tr>\n",
       "      <th>888</th>\n",
       "      <td>Pune, Maharashtra, India</td>\n",
       "      <td>271</td>\n",
       "    </tr>\n",
       "    <tr>\n",
       "      <th>51</th>\n",
       "      <td>Athens</td>\n",
       "      <td>233</td>\n",
       "    </tr>\n",
       "    <tr>\n",
       "      <th>520</th>\n",
       "      <td>Italy</td>\n",
       "      <td>222</td>\n",
       "    </tr>\n",
       "    <tr>\n",
       "      <th>317</th>\n",
       "      <td>Denmark</td>\n",
       "      <td>218</td>\n",
       "    </tr>\n",
       "    <tr>\n",
       "      <th>616</th>\n",
       "      <td>Los Angeles</td>\n",
       "      <td>197</td>\n",
       "    </tr>\n",
       "  </tbody>\n",
       "</table>\n",
       "</div>"
      ],
      "text/plain": [
       "                     location  user num\n",
       "888  Pune, Maharashtra, India       271\n",
       "51                     Athens       233\n",
       "520                     Italy       222\n",
       "317                   Denmark       218\n",
       "616               Los Angeles       197"
      ]
     },
     "execution_count": 3,
     "metadata": {},
     "output_type": "execute_result"
    }
   ],
   "source": [
    "locationinfo = location.groupby(['location']).count().reset_index()\n",
    "locationinfo = locationinfo.rename(columns={'userID':\"user num\"})\n",
    "locationinfo.sort_values(by=['user num'],ascending=False).head()"
   ]
  },
  {
   "cell_type": "markdown",
   "metadata": {},
   "source": [
    "## Explore the active date of posts"
   ]
  },
  {
   "cell_type": "code",
   "execution_count": 4,
   "metadata": {},
   "outputs": [
    {
     "data": {
      "text/html": [
       "<div>\n",
       "<style scoped>\n",
       "    .dataframe tbody tr th:only-of-type {\n",
       "        vertical-align: middle;\n",
       "    }\n",
       "\n",
       "    .dataframe tbody tr th {\n",
       "        vertical-align: top;\n",
       "    }\n",
       "\n",
       "    .dataframe thead th {\n",
       "        text-align: right;\n",
       "    }\n",
       "</style>\n",
       "<table border=\"1\" class=\"dataframe\">\n",
       "  <thead>\n",
       "    <tr style=\"text-align: right;\">\n",
       "      <th></th>\n",
       "      <th>creation_date</th>\n",
       "      <th>last_activity_date</th>\n",
       "      <th>createMonth</th>\n",
       "      <th>create</th>\n",
       "      <th>lastedit</th>\n",
       "      <th>dur</th>\n",
       "    </tr>\n",
       "  </thead>\n",
       "  <tbody>\n",
       "    <tr>\n",
       "      <th>0</th>\n",
       "      <td>2015-12-01 08:55:53.743 UTC</td>\n",
       "      <td>2015-12-04 11:52:25.647 UTC</td>\n",
       "      <td>201512</td>\n",
       "      <td>20151201</td>\n",
       "      <td>20151204</td>\n",
       "      <td>3</td>\n",
       "    </tr>\n",
       "    <tr>\n",
       "      <th>1</th>\n",
       "      <td>2015-02-04 12:38:37.197 UTC</td>\n",
       "      <td>2015-02-04 12:38:37.197 UTC</td>\n",
       "      <td>201502</td>\n",
       "      <td>20150204</td>\n",
       "      <td>20150204</td>\n",
       "      <td>0</td>\n",
       "    </tr>\n",
       "    <tr>\n",
       "      <th>2</th>\n",
       "      <td>2015-12-02 22:50:38.273 UTC</td>\n",
       "      <td>2015-12-17 08:06:23.237 UTC</td>\n",
       "      <td>201512</td>\n",
       "      <td>20151202</td>\n",
       "      <td>20151217</td>\n",
       "      <td>15</td>\n",
       "    </tr>\n",
       "    <tr>\n",
       "      <th>3</th>\n",
       "      <td>2015-01-08 09:17:39.027 UTC</td>\n",
       "      <td>2015-01-10 20:15:07.260 UTC</td>\n",
       "      <td>201501</td>\n",
       "      <td>20150108</td>\n",
       "      <td>20150110</td>\n",
       "      <td>2</td>\n",
       "    </tr>\n",
       "    <tr>\n",
       "      <th>4</th>\n",
       "      <td>2015-08-18 05:42:56.653 UTC</td>\n",
       "      <td>2015-08-18 09:31:58.830 UTC</td>\n",
       "      <td>201508</td>\n",
       "      <td>20150818</td>\n",
       "      <td>20150818</td>\n",
       "      <td>0</td>\n",
       "    </tr>\n",
       "  </tbody>\n",
       "</table>\n",
       "</div>"
      ],
      "text/plain": [
       "                 creation_date           last_activity_date createMonth  \\\n",
       "0  2015-12-01 08:55:53.743 UTC  2015-12-04 11:52:25.647 UTC      201512   \n",
       "1  2015-02-04 12:38:37.197 UTC  2015-02-04 12:38:37.197 UTC      201502   \n",
       "2  2015-12-02 22:50:38.273 UTC  2015-12-17 08:06:23.237 UTC      201512   \n",
       "3  2015-01-08 09:17:39.027 UTC  2015-01-10 20:15:07.260 UTC      201501   \n",
       "4  2015-08-18 05:42:56.653 UTC  2015-08-18 09:31:58.830 UTC      201508   \n",
       "\n",
       "     create  lastedit  dur  \n",
       "0  20151201  20151204    3  \n",
       "1  20150204  20150204    0  \n",
       "2  20151202  20151217   15  \n",
       "3  20150108  20150110    2  \n",
       "4  20150818  20150818    0  "
      ]
     },
     "execution_count": 4,
     "metadata": {},
     "output_type": "execute_result"
    }
   ],
   "source": [
    "datelst = dates['creation_date']\n",
    "creatdate = [i.split( )[0] for i in datelst]\n",
    "dates['createMonth'] =  [i.replace('-', '', 2)[:-2] for i in creatdate]\n",
    "\n",
    "datelst = dates['creation_date']\n",
    "creatdate = [i.split( )[0] for i in datelst]\n",
    "dates['create'] =  [int(i.replace('-', '', 2)) for i in creatdate]\n",
    "\n",
    "datelst = dates['last_activity_date']\n",
    "lasteditdate = [i.split( )[0] for i in datelst]\n",
    "dates['lastedit'] =  [int(i.replace('-', '', 2)) for i in lasteditdate]\n",
    "\n",
    "dates['dur'] = dates['lastedit'] - dates['create']\n",
    "\n",
    "dates.head()"
   ]
  },
  {
   "cell_type": "code",
   "execution_count": 5,
   "metadata": {},
   "outputs": [
    {
     "name": "stdout",
     "output_type": "stream",
     "text": [
      "[15458   107    54     6     0     0     0     0     0     0     0     0\n",
      "     0     0     0     0     0     0     0     0     0     0     0     0\n",
      "     0    44    86   114    82    49]\n",
      "[    0.    347.3   694.6  1041.9  1389.2  1736.5  2083.8  2431.1  2778.4\n",
      "  3125.7  3473.   3820.3  4167.6  4514.9  4862.2  5209.5  5556.8  5904.1\n",
      "  6251.4  6598.7  6946.   7293.3  7640.6  7987.9  8335.2  8682.5  9029.8\n",
      "  9377.1  9724.4 10071.7 10419. ]\n"
     ]
    },
    {
     "data": {
      "image/png": "[encoded data removed]",
      "text/plain": [
       "<Figure size 720x288 with 1 Axes>"
      ]
     },
     "metadata": {
      "needs_background": "light"
     },
     "output_type": "display_data"
    },
    {
     "name": "stdout",
     "output_type": "stream",
     "text": [
      "The average duration date: 234.7088125\n"
     ]
    }
   ],
   "source": [
    "dates['dur'].plot(kind='hist', figsize=(10, 4))\n",
    "count, bin_edges = np.histogram(dates['dur'], 30)\n",
    "print(count)\n",
    "print(bin_edges)\n",
    "\n",
    "plt.title('Histogram of Posts duration') # add a title to the histogram\n",
    "plt.ylabel('Number of Posts') # add y-label\n",
    "plt.xlabel('Duration in Days') # add x-label\n",
    "\n",
    "plt.show()\n",
    "\n",
    "print('The average duration date:', dates['dur'].mean())"
   ]
  },
  {
   "cell_type": "code",
   "execution_count": 6,
   "metadata": {},
   "outputs": [
    {
     "data": {
      "image/png": "[encoded data removed]",
      "text/plain": [
       "<Figure size 720x288 with 1 Axes>"
      ]
     },
     "metadata": {
      "needs_background": "light"
     },
     "output_type": "display_data"
    }
   ],
   "source": [
    "monthposts = dates.groupby(['createMonth']).count().reset_index()\n",
    "monthposts = monthposts.rename(columns={'creation_date':\"post num\"})\n",
    "\n",
    "ax = monthposts.plot.bar(x='createMonth', y='post num', rot=0, figsize=(10, 4))"
   ]
  },
  {
   "cell_type": "markdown",
   "metadata": {},
   "source": [
    "## Correlation and Heatmap"
   ]
  },
  {
   "cell_type": "code",
   "execution_count": 7,
   "metadata": {},
   "outputs": [
    {
     "data": {
      "text/html": [
       "<div>\n",
       "<style scoped>\n",
       "    .dataframe tbody tr th:only-of-type {\n",
       "        vertical-align: middle;\n",
       "    }\n",
       "\n",
       "    .dataframe tbody tr th {\n",
       "        vertical-align: top;\n",
       "    }\n",
       "\n",
       "    .dataframe thead th {\n",
       "        text-align: right;\n",
       "    }\n",
       "</style>\n",
       "<table border=\"1\" class=\"dataframe\">\n",
       "  <thead>\n",
       "    <tr style=\"text-align: right;\">\n",
       "      <th></th>\n",
       "      <th>post_cnt</th>\n",
       "      <th>avg_far</th>\n",
       "      <th>avg_com</th>\n",
       "      <th>avg_scr</th>\n",
       "      <th>avg_view</th>\n",
       "    </tr>\n",
       "  </thead>\n",
       "  <tbody>\n",
       "    <tr>\n",
       "      <th>post_cnt</th>\n",
       "      <td>1.000000</td>\n",
       "      <td>0.144992</td>\n",
       "      <td>-0.019277</td>\n",
       "      <td>0.052184</td>\n",
       "      <td>0.024247</td>\n",
       "    </tr>\n",
       "    <tr>\n",
       "      <th>avg_far</th>\n",
       "      <td>0.144992</td>\n",
       "      <td>1.000000</td>\n",
       "      <td>-0.004022</td>\n",
       "      <td>0.502795</td>\n",
       "      <td>0.514834</td>\n",
       "    </tr>\n",
       "    <tr>\n",
       "      <th>avg_com</th>\n",
       "      <td>-0.019277</td>\n",
       "      <td>-0.004022</td>\n",
       "      <td>1.000000</td>\n",
       "      <td>0.070266</td>\n",
       "      <td>0.011941</td>\n",
       "    </tr>\n",
       "    <tr>\n",
       "      <th>avg_scr</th>\n",
       "      <td>0.052184</td>\n",
       "      <td>0.502795</td>\n",
       "      <td>0.070266</td>\n",
       "      <td>1.000000</td>\n",
       "      <td>0.656394</td>\n",
       "    </tr>\n",
       "    <tr>\n",
       "      <th>avg_view</th>\n",
       "      <td>0.024247</td>\n",
       "      <td>0.514834</td>\n",
       "      <td>0.011941</td>\n",
       "      <td>0.656394</td>\n",
       "      <td>1.000000</td>\n",
       "    </tr>\n",
       "  </tbody>\n",
       "</table>\n",
       "</div>"
      ],
      "text/plain": [
       "          post_cnt   avg_far   avg_com   avg_scr  avg_view\n",
       "post_cnt  1.000000  0.144992 -0.019277  0.052184  0.024247\n",
       "avg_far   0.144992  1.000000 -0.004022  0.502795  0.514834\n",
       "avg_com  -0.019277 -0.004022  1.000000  0.070266  0.011941\n",
       "avg_scr   0.052184  0.502795  0.070266  1.000000  0.656394\n",
       "avg_view  0.024247  0.514834  0.011941  0.656394  1.000000"
      ]
     },
     "execution_count": 7,
     "metadata": {},
     "output_type": "execute_result"
    }
   ],
   "source": [
    "correlation = posts[['post_cnt','avg_far','avg_com','avg_scr','avg_view']].corr()\n",
    "correlation"
   ]
  },
  {
   "cell_type": "code",
   "execution_count": 8,
   "metadata": {},
   "outputs": [
    {
     "data": {
      "image/png": "[encoded data removed]",
      "text/plain": [
       "<Figure size 432x288 with 2 Axes>"
      ]
     },
     "metadata": {
      "needs_background": "light"
     },
     "output_type": "display_data"
    }
   ],
   "source": [
    "grouped_pivot = correlation\n",
    "\n",
    "fig, ax = plt.subplots()\n",
    "im = ax.pcolor(grouped_pivot)\n",
    "\n",
    "#label names\n",
    "row_labels = grouped_pivot.columns\n",
    "col_labels = grouped_pivot.index\n",
    "\n",
    "#move ticks and labels to the center\n",
    "ax.set_xticks(np.arange(grouped_pivot.shape[1]) + 0.5, minor=False)\n",
    "ax.set_yticks(np.arange(grouped_pivot.shape[0]) + 0.5, minor=False)\n",
    "\n",
    "#insert labels\n",
    "ax.set_xticklabels(row_labels, minor=False)\n",
    "ax.set_yticklabels(col_labels, minor=False)\n",
    "\n",
    "#rotate label if too long\n",
    "plt.xticks(rotation=90)\n",
    "\n",
    "fig.colorbar(im)\n",
    "plt.show()"
   ]
  },
  {
   "cell_type": "code",
   "execution_count": 11,
   "metadata": {},
   "outputs": [
    {
     "data": {
      "text/plain": [
       "<matplotlib.axes._subplots.AxesSubplot at 0x2577bb889e8>"
      ]
     },
     "execution_count": 11,
     "metadata": {},
     "output_type": "execute_result"
    },
    {
     "data": {
      "image/png": "[encoded data removed]",
      "text/plain": [
       "<Figure size 432x288 with 1 Axes>"
      ]
     },
     "metadata": {
      "needs_background": "light"
     },
     "output_type": "display_data"
    }
   ],
   "source": [
    "sns.regplot(x=\"avg_scr\", y=\"avg_view\", data=posts)"
   ]
  },
  {
   "cell_type": "code",
   "execution_count": 12,
   "metadata": {},
   "outputs": [
    {
     "data": {
      "text/plain": [
       "<matplotlib.axes._subplots.AxesSubplot at 0x2577afdada0>"
      ]
     },
     "execution_count": 12,
     "metadata": {},
     "output_type": "execute_result"
    },
    {
     "data": {
      "image/png": "[encoded data removed]",
      "text/plain": [
       "<Figure size 432x288 with 1 Axes>"
      ]
     },
     "metadata": {
      "needs_background": "light"
     },
     "output_type": "display_data"
    }
   ],
   "source": [
    "sns.regplot(x=\"avg_far\", y=\"avg_view\", data=posts)"
   ]
  },
  {
   "cell_type": "code",
   "execution_count": 13,
   "metadata": {},
   "outputs": [
    {
     "data": {
      "text/plain": [
       "<matplotlib.axes._subplots.AxesSubplot at 0x25779a67080>"
      ]
     },
     "execution_count": 13,
     "metadata": {},
     "output_type": "execute_result"
    },
    {
     "data": {
      "image/png": "[encoded data removed]",
      "text/plain": [
       "<Figure size 432x288 with 1 Axes>"
      ]
     },
     "metadata": {
      "needs_background": "light"
     },
     "output_type": "display_data"
    }
   ],
   "source": [
    "sns.regplot(x=\"avg_com\", y=\"avg_view\", data=posts)"
   ]
  }
 ],
 "metadata": {
  "kernelspec": {
   "display_name": "Python 3",
   "language": "python",
   "name": "python3"
  },
  "language_info": {
   "codemirror_mode": {
    "name": "ipython",
    "version": 3
   },
   "file_extension": ".py",
   "mimetype": "text/x-python",
   "name": "python",
   "nbconvert_exporter": "python",
   "pygments_lexer": "ipython3",
   "version": "3.7.3"
  }
 },
 "nbformat": 4,
 "nbformat_minor": 2
}
